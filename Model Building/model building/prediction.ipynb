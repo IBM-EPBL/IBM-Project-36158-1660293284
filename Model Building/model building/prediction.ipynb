{
  "nbformat": 4,
  "nbformat_minor": 0,
  "metadata": {
    "colab": {
      "provenance": [],
      "collapsed_sections": []
    },
    "kernelspec": {
      "name": "python3",
      "display_name": "Python 3"
    },
    "language_info": {
      "name": "python"
    }
  },
  "cells": [
    {
      "cell_type": "code",
      "execution_count": 1,
      "metadata": {
        "colab": {
          "base_uri": "https://localhost:8080/"
        },
        "id": "yKCEzoTfPSN6",
        "outputId": "7cc22072-dc6e-41e7-a875-9d74963ae380"
      },
      "outputs": [
        {
          "output_type": "stream",
          "name": "stdout",
          "text": [
            "Mounted at /content/drive/\n"
          ]
        }
      ],
      "source": [
        "from google.colab import drive\n",
        "drive.mount('/content/drive/')"
      ]
    },
    {
      "cell_type": "code",
      "source": [
        "!unzip \"/content/drive/MyDrive/dataset1.zip\""
      ],
      "metadata": {
        "id": "LAtJgsuaUIhk"
      },
      "execution_count": null,
      "outputs": []
    },
    {
      "cell_type": "markdown",
      "source": [
        "importing Required libraries\n",
        "\n",
        "\n"
      ],
      "metadata": {
        "id": "oXqKYdoGUYx6"
      }
    },
    {
      "cell_type": "code",
      "source": [
        "import keras\n",
        "from keras.preprocessing.image import ImageDataGenerator\n"
      ],
      "metadata": {
        "id": "887sf6s2Ujrv"
      },
      "execution_count": 18,
      "outputs": []
    },
    {
      "cell_type": "markdown",
      "source": [
        "Define parameters and arguments for ImageDataGeneratior"
      ],
      "metadata": {
        "id": "bX4BBg9XUx9X"
      }
    },
    {
      "cell_type": "code",
      "source": [
        "train_datagen=ImageDataGenerator(rescale=1./255,\n",
        "                                 shear_range=0.2,\n",
        "                                 rotation_range=180,\n",
        "                                 zoom_range=0.2,\n",
        "                                 horizontal_flip=True)\n",
        "test_datagen=ImageDataGenerator(rescale=1./255)"
      ],
      "metadata": {
        "id": "vXV9_SQgXymS"
      },
      "execution_count": 19,
      "outputs": []
    },
    {
      "cell_type": "markdown",
      "source": [
        "Applying ImageDataGenerator "
      ],
      "metadata": {
        "id": "ASm6RATkaj1z"
      }
    },
    {
      "cell_type": "code",
      "source": [
        "x_test = test_datagen.flow_from_directory(r'/content/Dataset/Dataset/test_set',\n",
        "                                          target_size=(128,128),\n",
        "                                          batch_size=32,\n",
        "                                          class_mode='binary')"
      ],
      "metadata": {
        "colab": {
          "base_uri": "https://localhost:8080/"
        },
        "id": "z8DG2vcagcTD",
        "outputId": "9f7aa8f3-13f1-46d0-d8fc-140ea07c19b8"
      },
      "execution_count": 21,
      "outputs": [
        {
          "output_type": "stream",
          "name": "stdout",
          "text": [
            "Found 121 images belonging to 2 classes.\n"
          ]
        }
      ]
    },
    {
      "cell_type": "code",
      "source": [
        "x_train = train_datagen.flow_from_directory(r'/content/Dataset/Dataset/train_set',\n",
        "                                          target_size=(128,128),\n",
        "                                          batch_size=32,\n",
        "                                          class_mode='binary')"
      ],
      "metadata": {
        "colab": {
          "base_uri": "https://localhost:8080/"
        },
        "id": "VhnoHF-IhVyA",
        "outputId": "7489698b-bbd3-4cfa-ecab-6eb08af68a9a"
      },
      "execution_count": 22,
      "outputs": [
        {
          "output_type": "stream",
          "name": "stdout",
          "text": [
            "Found 436 images belonging to 2 classes.\n"
          ]
        }
      ]
    },
    {
      "cell_type": "markdown",
      "source": [
        "Model building"
      ],
      "metadata": {
        "id": "TFu_Ziv6ivrt"
      }
    },
    {
      "cell_type": "code",
      "source": [
        "#import model building libraries\n",
        "\n",
        "#to define linear initialisation import sequential\n",
        "from keras.models import Sequential\n",
        "#to add layer import Dense\n",
        "from keras.layers import Dense\n",
        "#to create convolution kernel import convolution2D\n",
        "from keras.layers import Convolution2D\n",
        "#import Maxpooling layer\n",
        "from keras.layers import MaxPooling2D\n",
        "#import flatten layer\n",
        "from keras.layers import Flatten\n",
        "import warnings\n",
        "warnings.filterwarnings('ignore')"
      ],
      "metadata": {
        "id": "Jwophy5Gi2cp"
      },
      "execution_count": 96,
      "outputs": []
    },
    {
      "cell_type": "code",
      "source": [
        "#initialize the model\n",
        "model=Sequential()"
      ],
      "metadata": {
        "id": "10h-cHdblgYK"
      },
      "execution_count": 97,
      "outputs": []
    },
    {
      "cell_type": "code",
      "source": [
        "from keras.layers.pooling.max_pooling2d import MaxPooling2D\n",
        "#add convolution layer\n",
        "model.add(Convolution2D(32,(3,3),input_shape=(128,128,3),activation='relu'))\n",
        "#add maxpooling layer\n",
        "model.add(MaxPooling2D(pool_size=(2,2)))\n",
        "#add flatten layer\n",
        "model.add(Flatten())"
      ],
      "metadata": {
        "id": "6gZ7d8Dt-9jh"
      },
      "execution_count": 98,
      "outputs": []
    },
    {
      "cell_type": "code",
      "source": [
        "#add hidden layer\n",
        "model.add(Dense(150,activation='relu'))\n",
        "#add output layer\n",
        "model.add(Dense(1,activation='sigmoid'))"
      ],
      "metadata": {
        "id": "aXSg0bBspyut"
      },
      "execution_count": 99,
      "outputs": []
    },
    {
      "cell_type": "code",
      "source": [
        "#configure the learning process\n",
        "model.compile(loss = 'binary_crossentropy',\n",
        "              optimizer = \"adam\",\n",
        "              metrics = [\"accuracy\"])"
      ],
      "metadata": {
        "id": "DoXM2jJWrc8u"
      },
      "execution_count": 100,
      "outputs": []
    },
    {
      "cell_type": "code",
      "source": [
        "#training the model\n",
        "model.fit(x_train,steps_per_epoch=14,\n",
        "                    epochs=10,validation_data=x_test,\n",
        "                    validation_steps=4)"
      ],
      "metadata": {
        "colab": {
          "base_uri": "https://localhost:8080/"
        },
        "id": "ywox9u5ptkWf",
        "outputId": "f1609334-cef6-4c65-8453-fcc1ef7a75f0"
      },
      "execution_count": 101,
      "outputs": [
        {
          "output_type": "stream",
          "name": "stdout",
          "text": [
            "Epoch 1/10\n",
            "14/14 [==============================] - 29s 2s/step - loss: 4.5560 - accuracy: 0.6078 - val_loss: 0.5435 - val_accuracy: 0.5950\n",
            "Epoch 2/10\n",
            "14/14 [==============================] - 25s 2s/step - loss: 0.6721 - accuracy: 0.4771 - val_loss: 0.6930 - val_accuracy: 0.4132\n",
            "Epoch 3/10\n",
            "14/14 [==============================] - 24s 2s/step - loss: 0.6253 - accuracy: 0.6330 - val_loss: 0.4161 - val_accuracy: 0.8099\n",
            "Epoch 4/10\n",
            "14/14 [==============================] - 30s 2s/step - loss: 0.3655 - accuracy: 0.8509 - val_loss: 0.1326 - val_accuracy: 0.9504\n",
            "Epoch 5/10\n",
            "14/14 [==============================] - 24s 2s/step - loss: 0.2157 - accuracy: 0.9128 - val_loss: 0.0944 - val_accuracy: 0.9669\n",
            "Epoch 6/10\n",
            "14/14 [==============================] - 24s 2s/step - loss: 0.1949 - accuracy: 0.9083 - val_loss: 0.0776 - val_accuracy: 0.9835\n",
            "Epoch 7/10\n",
            "14/14 [==============================] - 26s 2s/step - loss: 0.1867 - accuracy: 0.8968 - val_loss: 0.1143 - val_accuracy: 0.9421\n",
            "Epoch 8/10\n",
            "14/14 [==============================] - 24s 2s/step - loss: 0.2159 - accuracy: 0.8945 - val_loss: 0.1382 - val_accuracy: 0.9339\n",
            "Epoch 9/10\n",
            "14/14 [==============================] - 24s 2s/step - loss: 0.2625 - accuracy: 0.8830 - val_loss: 0.0859 - val_accuracy: 0.9752\n",
            "Epoch 10/10\n",
            "14/14 [==============================] - 24s 2s/step - loss: 0.1905 - accuracy: 0.9174 - val_loss: 0.0761 - val_accuracy: 0.9835\n"
          ]
        },
        {
          "output_type": "execute_result",
          "data": {
            "text/plain": [
              "<keras.callbacks.History at 0x7fdb18863c50>"
            ]
          },
          "metadata": {},
          "execution_count": 101
        }
      ]
    },
    {
      "cell_type": "code",
      "source": [
        "#save the model\n",
        "model.save(\"forest1.h5\")"
      ],
      "metadata": {
        "id": "v3yD6d2R0BLG"
      },
      "execution_count": 102,
      "outputs": []
    },
    {
      "cell_type": "code",
      "source": [
        "#import load_model from keras.model\n",
        "from keras.models import load_model\n",
        "#import image class from keras\n",
        "from tensorflow.keras.preprocessing import image\n",
        "#import numpy\n",
        "import numpy as np\n",
        "#import cv2\n",
        "import cv2 "
      ],
      "metadata": {
        "id": "21NrchNj0cTR"
      },
      "execution_count": 103,
      "outputs": []
    },
    {
      "cell_type": "code",
      "source": [
        "#load the saved model\n",
        "model = load_model(\"forest1.h5\")"
      ],
      "metadata": {
        "id": "eAfD8odj1ddO"
      },
      "execution_count": 104,
      "outputs": []
    },
    {
      "cell_type": "code",
      "source": [
        "img=image.load_img(r'/content/Dataset/Dataset/test_set/with fire/GettyImages_482867948.0.jpg')\n",
        "x=image.img_to_array(img)\n",
        "res = cv2.resize(x, dsize=(128,128),interpolation=cv2.INTER_CUBIC)\n",
        "x=np.expand_dims(res,axis=0) "
      ],
      "metadata": {
        "id": "gmMdjMhS1wST"
      },
      "execution_count": 105,
      "outputs": []
    },
    {
      "cell_type": "code",
      "source": [
        "pred = model.predict(x)"
      ],
      "metadata": {
        "colab": {
          "base_uri": "https://localhost:8080/"
        },
        "id": "HbhYZ8NlEhdG",
        "outputId": "beec3542-12c8-4b03-e765-d636272ed25e"
      },
      "execution_count": 107,
      "outputs": [
        {
          "output_type": "stream",
          "name": "stdout",
          "text": [
            "1/1 [==============================] - 0s 74ms/step\n"
          ]
        }
      ]
    },
    {
      "cell_type": "code",
      "source": [
        "pred"
      ],
      "metadata": {
        "colab": {
          "base_uri": "https://localhost:8080/"
        },
        "id": "c4e0NYzrEoQj",
        "outputId": "e9a732c4-a282-42a8-fa2f-0626dc2a20b3"
      },
      "execution_count": 108,
      "outputs": [
        {
          "output_type": "execute_result",
          "data": {
            "text/plain": [
              "array([[1.]], dtype=float32)"
            ]
          },
          "metadata": {},
          "execution_count": 108
        }
      ]
    }
  ]
}